{
 "cells": [
  {
   "cell_type": "code",
   "execution_count": 8,
   "metadata": {},
   "outputs": [],
   "source": [
    "import os \n",
    "from dataclasses import dataclass\n",
    "from typing import Callable, Optional\n",
    "from spacy.lang.en import English\n",
    "import pandas as pd\n",
    "from sentence_transformers import SentenceTransformer\n",
    "\n",
    "TEXT_FOLDER_PATH = \"./scrapers/out_text\"\n",
    "ACTS_PARQUET_PATH = \"./acts.parquet\""
   ]
  },
  {
   "cell_type": "markdown",
   "metadata": {},
   "source": [
    "# Parsing\n",
    "\n",
    "From text file to DataFrame"
   ]
  },
  {
   "cell_type": "code",
   "execution_count": 9,
   "metadata": {},
   "outputs": [],
   "source": [
    "@dataclass\n",
    "class Act:\n",
    "    filename: str\n",
    "    char_count: int\n",
    "    word_count: int\n",
    "    sentence_count_raw: int\n",
    "    token_count: float\n",
    "    text: str\n",
    "\n",
    "    sentences_spacy: list[str]\n",
    "    sentence_count_spacy: int\n",
    "\n",
    "    nlp = English()\n",
    "    nlp.add_pipe(\"sentencizer\")\n",
    "    nlp.max_length = 9999999\n",
    "\n",
    "    @classmethod\n",
    "    def from_text(cls, filename: str, text: str):\n",
    "        doc = cls.nlp(text)\n",
    "        sentences = [str(sentence) for sentence in doc.sents]\n",
    "\n",
    "        return Act(\n",
    "            filename=filename,\n",
    "            char_count=len(text),\n",
    "            word_count=len(text.split(\" \")), \n",
    "            sentence_count_raw=len(text.split(\".\")),\n",
    "            token_count=len(text.split(\" \")) / 4,\n",
    "            text=text,\n",
    "            sentences_spacy=sentences, \n",
    "            sentence_count_spacy=len(sentences)\n",
    "        ) \n",
    "\n",
    "def get_acts(text_folder_path: str, formatter: Optional[Callable] = None) -> list[Act]:\n",
    "    acts : list[Act] = []\n",
    "\n",
    "    for dpath, dnames, fnames in os.walk(text_folder_path):\n",
    "        for fname in fnames:\n",
    "            fpath = os.path.join(dpath, fname)\n",
    "            with open(fpath) as f:\n",
    "                text = f.read()\n",
    "                if formatter:\n",
    "                    text = formatter(text)\n",
    "                if len(text) < 1000:\n",
    "                    print(f\"[WARN] {fpath} is too short ({len(text)} chars), not adding to list\")\n",
    "                    continue\n",
    "                acts.append(Act.from_text(fname, text))\n",
    "    return acts\n",
    "\n",
    "def format_text(text: str):\n",
    "    cleaned_text = text.replace(\"\\n\", \" \").strip() \n",
    "    return cleaned_text\n"
   ]
  },
  {
   "cell_type": "code",
   "execution_count": 10,
   "metadata": {},
   "outputs": [
    {
     "name": "stdout",
     "output_type": "stream",
     "text": [
      "[INFO] reading from ./acts.parquet\n"
     ]
    }
   ],
   "source": [
    "if not os.path.isfile(ACTS_PARQUET_PATH):\n",
    "    acts = get_acts(TEXT_FOLDER_PATH, format_text)\n",
    "    df = pd.DataFrame(acts)\n",
    "    df.to_parquet(ACTS_PARQUET_PATH)\n",
    "else:\n",
    "    print(f\"[INFO] reading from {ACTS_PARQUET_PATH}\")\n",
    "    df = pd.read_parquet(ACTS_PARQUET_PATH)"
   ]
  },
  {
   "cell_type": "code",
   "execution_count": 11,
   "metadata": {},
   "outputs": [
    {
     "data": {
      "text/html": [
       "<div>\n",
       "<style scoped>\n",
       "    .dataframe tbody tr th:only-of-type {\n",
       "        vertical-align: middle;\n",
       "    }\n",
       "\n",
       "    .dataframe tbody tr th {\n",
       "        vertical-align: top;\n",
       "    }\n",
       "\n",
       "    .dataframe thead th {\n",
       "        text-align: right;\n",
       "    }\n",
       "</style>\n",
       "<table border=\"1\" class=\"dataframe\">\n",
       "  <thead>\n",
       "    <tr style=\"text-align: right;\">\n",
       "      <th></th>\n",
       "      <th>filename</th>\n",
       "      <th>char_count</th>\n",
       "      <th>word_count</th>\n",
       "      <th>sentence_count_raw</th>\n",
       "      <th>token_count</th>\n",
       "      <th>text</th>\n",
       "      <th>sentences_spacy</th>\n",
       "      <th>sentence_count_spacy</th>\n",
       "    </tr>\n",
       "  </thead>\n",
       "  <tbody>\n",
       "    <tr>\n",
       "      <th>0</th>\n",
       "      <td>MCA1987-Minors’-Contracts-Act-1987.txt</td>\n",
       "      <td>1563</td>\n",
       "      <td>273</td>\n",
       "      <td>12</td>\n",
       "      <td>68.25</td>\n",
       "      <td>Disapplication of Infants Relief Act 1874 1.  ...</td>\n",
       "      <td>[Disapplication of Infants Relief Act 1874 1.,...</td>\n",
       "      <td>8</td>\n",
       "    </tr>\n",
       "    <tr>\n",
       "      <th>1</th>\n",
       "      <td>ISA1987-Intoxicating-Substances-Act-1987.txt</td>\n",
       "      <td>45626</td>\n",
       "      <td>7359</td>\n",
       "      <td>186</td>\n",
       "      <td>1839.75</td>\n",
       "      <td>Short title 1.  This Act is the Intoxicating S...</td>\n",
       "      <td>[Short title 1.,  This Act is the Intoxicating...</td>\n",
       "      <td>54</td>\n",
       "    </tr>\n",
       "    <tr>\n",
       "      <th>2</th>\n",
       "      <td>TCMPA2000-Traditional-Chinese-Medicine-Practit...</td>\n",
       "      <td>61884</td>\n",
       "      <td>9305</td>\n",
       "      <td>227</td>\n",
       "      <td>2326.25</td>\n",
       "      <td>Short title 1.  This Act is the Traditional Ch...</td>\n",
       "      <td>[Short title 1.,  This Act is the Traditional ...</td>\n",
       "      <td>47</td>\n",
       "    </tr>\n",
       "    <tr>\n",
       "      <th>3</th>\n",
       "      <td>MSA1995-Merchant-Shipping-Act-1995.txt</td>\n",
       "      <td>193962</td>\n",
       "      <td>32590</td>\n",
       "      <td>765</td>\n",
       "      <td>8147.50</td>\n",
       "      <td>Short title 1.  This Act is the Merchant Shipp...</td>\n",
       "      <td>[Short title 1.,  This Act is the Merchant Shi...</td>\n",
       "      <td>272</td>\n",
       "    </tr>\n",
       "    <tr>\n",
       "      <th>4</th>\n",
       "      <td>CAMC1999A2007-Carriage-by-Air-(Montreal-Conven...</td>\n",
       "      <td>7986</td>\n",
       "      <td>1357</td>\n",
       "      <td>40</td>\n",
       "      <td>339.25</td>\n",
       "      <td>Short title 1.  This Act is the Carriage by Ai...</td>\n",
       "      <td>[Short title 1.,  This Act is the Carriage by ...</td>\n",
       "      <td>21</td>\n",
       "    </tr>\n",
       "  </tbody>\n",
       "</table>\n",
       "</div>"
      ],
      "text/plain": [
       "                                            filename  char_count  word_count  \\\n",
       "0             MCA1987-Minors’-Contracts-Act-1987.txt        1563         273   \n",
       "1       ISA1987-Intoxicating-Substances-Act-1987.txt       45626        7359   \n",
       "2  TCMPA2000-Traditional-Chinese-Medicine-Practit...       61884        9305   \n",
       "3             MSA1995-Merchant-Shipping-Act-1995.txt      193962       32590   \n",
       "4  CAMC1999A2007-Carriage-by-Air-(Montreal-Conven...        7986        1357   \n",
       "\n",
       "   sentence_count_raw  token_count  \\\n",
       "0                  12        68.25   \n",
       "1                 186      1839.75   \n",
       "2                 227      2326.25   \n",
       "3                 765      8147.50   \n",
       "4                  40       339.25   \n",
       "\n",
       "                                                text  \\\n",
       "0  Disapplication of Infants Relief Act 1874 1.  ...   \n",
       "1  Short title 1.  This Act is the Intoxicating S...   \n",
       "2  Short title 1.  This Act is the Traditional Ch...   \n",
       "3  Short title 1.  This Act is the Merchant Shipp...   \n",
       "4  Short title 1.  This Act is the Carriage by Ai...   \n",
       "\n",
       "                                     sentences_spacy  sentence_count_spacy  \n",
       "0  [Disapplication of Infants Relief Act 1874 1.,...                     8  \n",
       "1  [Short title 1.,  This Act is the Intoxicating...                    54  \n",
       "2  [Short title 1.,  This Act is the Traditional ...                    47  \n",
       "3  [Short title 1.,  This Act is the Merchant Shi...                   272  \n",
       "4  [Short title 1.,  This Act is the Carriage by ...                    21  "
      ]
     },
     "execution_count": 11,
     "metadata": {},
     "output_type": "execute_result"
    }
   ],
   "source": [
    "df.head()"
   ]
  },
  {
   "cell_type": "code",
   "execution_count": 12,
   "metadata": {},
   "outputs": [
    {
     "data": {
      "text/html": [
       "<div>\n",
       "<style scoped>\n",
       "    .dataframe tbody tr th:only-of-type {\n",
       "        vertical-align: middle;\n",
       "    }\n",
       "\n",
       "    .dataframe tbody tr th {\n",
       "        vertical-align: top;\n",
       "    }\n",
       "\n",
       "    .dataframe thead th {\n",
       "        text-align: right;\n",
       "    }\n",
       "</style>\n",
       "<table border=\"1\" class=\"dataframe\">\n",
       "  <thead>\n",
       "    <tr style=\"text-align: right;\">\n",
       "      <th></th>\n",
       "      <th>char_count</th>\n",
       "      <th>word_count</th>\n",
       "      <th>sentence_count_raw</th>\n",
       "      <th>token_count</th>\n",
       "      <th>sentence_count_spacy</th>\n",
       "    </tr>\n",
       "  </thead>\n",
       "  <tbody>\n",
       "    <tr>\n",
       "      <th>count</th>\n",
       "      <td>496.0</td>\n",
       "      <td>496.0</td>\n",
       "      <td>496.0</td>\n",
       "      <td>496.0</td>\n",
       "      <td>496.0</td>\n",
       "    </tr>\n",
       "    <tr>\n",
       "      <th>mean</th>\n",
       "      <td>78006.7</td>\n",
       "      <td>13993.4</td>\n",
       "      <td>237.2</td>\n",
       "      <td>3498.4</td>\n",
       "      <td>60.2</td>\n",
       "    </tr>\n",
       "    <tr>\n",
       "      <th>std</th>\n",
       "      <td>152539.6</td>\n",
       "      <td>45697.7</td>\n",
       "      <td>375.1</td>\n",
       "      <td>11424.4</td>\n",
       "      <td>106.6</td>\n",
       "    </tr>\n",
       "    <tr>\n",
       "      <th>min</th>\n",
       "      <td>1092.0</td>\n",
       "      <td>183.0</td>\n",
       "      <td>7.0</td>\n",
       "      <td>45.8</td>\n",
       "      <td>3.0</td>\n",
       "    </tr>\n",
       "    <tr>\n",
       "      <th>25%</th>\n",
       "      <td>11144.2</td>\n",
       "      <td>1842.0</td>\n",
       "      <td>46.2</td>\n",
       "      <td>460.5</td>\n",
       "      <td>18.0</td>\n",
       "    </tr>\n",
       "    <tr>\n",
       "      <th>50%</th>\n",
       "      <td>34446.0</td>\n",
       "      <td>5450.5</td>\n",
       "      <td>117.5</td>\n",
       "      <td>1362.6</td>\n",
       "      <td>37.0</td>\n",
       "    </tr>\n",
       "    <tr>\n",
       "      <th>75%</th>\n",
       "      <td>92415.8</td>\n",
       "      <td>14658.5</td>\n",
       "      <td>294.5</td>\n",
       "      <td>3664.6</td>\n",
       "      <td>67.0</td>\n",
       "    </tr>\n",
       "    <tr>\n",
       "      <th>max</th>\n",
       "      <td>1777447.0</td>\n",
       "      <td>893234.0</td>\n",
       "      <td>3791.0</td>\n",
       "      <td>223308.5</td>\n",
       "      <td>1738.0</td>\n",
       "    </tr>\n",
       "  </tbody>\n",
       "</table>\n",
       "</div>"
      ],
      "text/plain": [
       "       char_count  word_count  sentence_count_raw  token_count  \\\n",
       "count       496.0       496.0               496.0        496.0   \n",
       "mean      78006.7     13993.4               237.2       3498.4   \n",
       "std      152539.6     45697.7               375.1      11424.4   \n",
       "min        1092.0       183.0                 7.0         45.8   \n",
       "25%       11144.2      1842.0                46.2        460.5   \n",
       "50%       34446.0      5450.5               117.5       1362.6   \n",
       "75%       92415.8     14658.5               294.5       3664.6   \n",
       "max     1777447.0    893234.0              3791.0     223308.5   \n",
       "\n",
       "       sentence_count_spacy  \n",
       "count                 496.0  \n",
       "mean                   60.2  \n",
       "std                   106.6  \n",
       "min                     3.0  \n",
       "25%                    18.0  \n",
       "50%                    37.0  \n",
       "75%                    67.0  \n",
       "max                  1738.0  "
      ]
     },
     "execution_count": 12,
     "metadata": {},
     "output_type": "execute_result"
    }
   ],
   "source": [
    "df.describe().round(1)"
   ]
  },
  {
   "cell_type": "markdown",
   "metadata": {},
   "source": [
    "# Chunking"
   ]
  },
  {
   "cell_type": "code",
   "execution_count": 13,
   "metadata": {},
   "outputs": [],
   "source": [
    "CHUNK_SIZE = 5 # sentences\n",
    "\n",
    "def split_list(input_list: list[str], slice_size: int) -> list[list[str]]:\n",
    "    \"\"\"\n",
    "    Splits the input_list into sublists of size slice_size (or as close as possible).\n",
    "    For example, a list of 17 sentences would be split into two lists of [[10], [7]]\n",
    "    \"\"\"\n",
    "    return [input_list[min(i-2,0):max(i + slice_size + 2, len(input_list))] for i in range(0, len(input_list), slice_size)]\n",
    "\n",
    "def get_chunk(sents):\n",
    "    chunks: list[str] = split_list(sents, CHUNK_SIZE)\n",
    "    return chunks\n",
    "\n",
    "df[\"chunks\"] = df[\"sentences_spacy\"].apply(get_chunk)\n",
    "df[\"chunk_count\"] = df[\"chunks\"].apply(lambda chunks: len(chunks)) "
   ]
  },
  {
   "cell_type": "code",
   "execution_count": 14,
   "metadata": {},
   "outputs": [
    {
     "name": "stdout",
     "output_type": "stream",
     "text": [
      "[WARN] 57 chunks filtered out\n"
     ]
    }
   ],
   "source": [
    "import pandas as pd\n",
    "import re\n",
    "\n",
    "def x(df:pd.DataFrame):\n",
    "    count = 0\n",
    "    items = []\n",
    "    for i, row in df.iterrows():\n",
    "        for chunk in row[\"chunks\"]:\n",
    "            chunk_dict = {}\n",
    "            joined_chunk = \"\".join(chunk).replace(\"  \", \" \").strip()\n",
    "            joined_chunk = re.sub(r'\\.([A-Z])', r'. \\1', joined_chunk) \n",
    "            chunk_dict[\"chunk\"] = joined_chunk\n",
    "            # Get stats about the chunk\n",
    "            chunk_dict[\"chunk_char_count\"] = len(joined_chunk)\n",
    "            chunk_dict[\"chunk_word_count\"] = len([word for word in joined_chunk.split(\" \")])\n",
    "            chunk_dict[\"chunk_token_count\"] = len(joined_chunk) / 4 # 1 token = ~4 characters\n",
    "            if chunk_dict[\"chunk_word_count\"] < 30:\n",
    "                count += 1\n",
    "                continue\n",
    "            items.append(chunk_dict)\n",
    "    print(f\"[WARN] {count} chunks filtered out\")\n",
    "    return items\n",
    "\n",
    "items = x(df)"
   ]
  },
  {
   "cell_type": "code",
   "execution_count": 15,
   "metadata": {},
   "outputs": [
    {
     "data": {
      "text/plain": [
       "6115"
      ]
     },
     "execution_count": 15,
     "metadata": {},
     "output_type": "execute_result"
    }
   ],
   "source": [
    "len(items)"
   ]
  },
  {
   "cell_type": "code",
   "execution_count": 21,
   "metadata": {},
   "outputs": [],
   "source": [
    "chunk_df = pd.DataFrame(items)"
   ]
  },
  {
   "cell_type": "code",
   "execution_count": 22,
   "metadata": {},
   "outputs": [
    {
     "data": {
      "text/html": [
       "<div>\n",
       "<style scoped>\n",
       "    .dataframe tbody tr th:only-of-type {\n",
       "        vertical-align: middle;\n",
       "    }\n",
       "\n",
       "    .dataframe tbody tr th {\n",
       "        vertical-align: top;\n",
       "    }\n",
       "\n",
       "    .dataframe thead th {\n",
       "        text-align: right;\n",
       "    }\n",
       "</style>\n",
       "<table border=\"1\" class=\"dataframe\">\n",
       "  <thead>\n",
       "    <tr style=\"text-align: right;\">\n",
       "      <th></th>\n",
       "      <th>chunk_char_count</th>\n",
       "      <th>chunk_word_count</th>\n",
       "      <th>chunk_token_count</th>\n",
       "    </tr>\n",
       "  </thead>\n",
       "  <tbody>\n",
       "    <tr>\n",
       "      <th>count</th>\n",
       "      <td>6115.0</td>\n",
       "      <td>6115.0</td>\n",
       "      <td>6115.0</td>\n",
       "    </tr>\n",
       "    <tr>\n",
       "      <th>mean</th>\n",
       "      <td>223959.6</td>\n",
       "      <td>55361.7</td>\n",
       "      <td>55989.9</td>\n",
       "    </tr>\n",
       "    <tr>\n",
       "      <th>std</th>\n",
       "      <td>312096.4</td>\n",
       "      <td>113408.9</td>\n",
       "      <td>78024.1</td>\n",
       "    </tr>\n",
       "    <tr>\n",
       "      <th>min</th>\n",
       "      <td>167.0</td>\n",
       "      <td>30.0</td>\n",
       "      <td>41.8</td>\n",
       "    </tr>\n",
       "    <tr>\n",
       "      <th>25%</th>\n",
       "      <td>40828.0</td>\n",
       "      <td>6544.0</td>\n",
       "      <td>10207.0</td>\n",
       "    </tr>\n",
       "    <tr>\n",
       "      <th>50%</th>\n",
       "      <td>106602.0</td>\n",
       "      <td>16947.0</td>\n",
       "      <td>26650.5</td>\n",
       "    </tr>\n",
       "    <tr>\n",
       "      <th>75%</th>\n",
       "      <td>246634.0</td>\n",
       "      <td>42523.0</td>\n",
       "      <td>61658.5</td>\n",
       "    </tr>\n",
       "    <tr>\n",
       "      <th>max</th>\n",
       "      <td>1777136.0</td>\n",
       "      <td>485547.0</td>\n",
       "      <td>444284.0</td>\n",
       "    </tr>\n",
       "  </tbody>\n",
       "</table>\n",
       "</div>"
      ],
      "text/plain": [
       "       chunk_char_count  chunk_word_count  chunk_token_count\n",
       "count            6115.0            6115.0             6115.0\n",
       "mean           223959.6           55361.7            55989.9\n",
       "std            312096.4          113408.9            78024.1\n",
       "min               167.0              30.0               41.8\n",
       "25%             40828.0            6544.0            10207.0\n",
       "50%            106602.0           16947.0            26650.5\n",
       "75%            246634.0           42523.0            61658.5\n",
       "max           1777136.0          485547.0           444284.0"
      ]
     },
     "execution_count": 22,
     "metadata": {},
     "output_type": "execute_result"
    }
   ],
   "source": [
    "chunk_df.describe().round(1)"
   ]
  },
  {
   "cell_type": "code",
   "execution_count": 23,
   "metadata": {},
   "outputs": [],
   "source": [
    "os.environ[\"PYTORCH_ENABLE_MPS_FALLBACK\"] = \"1\"\n",
    "embedding_model = SentenceTransformer(model_name_or_path=\"all-mpnet-base-v2\", device=\"mps\") "
   ]
  },
  {
   "cell_type": "code",
   "execution_count": 29,
   "metadata": {},
   "outputs": [
    {
     "name": "stdout",
     "output_type": "stream",
     "text": [
      "CPU times: user 57min 57s, sys: 34min 57s, total: 1h 32min 54s\n",
      "Wall time: 1d 7h 12min 14s\n"
     ]
    }
   ],
   "source": [
    "%%time\n",
    "\n",
    "chunk_df[\"embedding\"] = chunk_df[\"chunk\"].apply(lambda chunk: embedding_model.encode(chunk, batch_size=32))"
   ]
  },
  {
   "cell_type": "code",
   "execution_count": null,
   "metadata": {},
   "outputs": [],
   "source": []
  },
  {
   "cell_type": "code",
   "execution_count": null,
   "metadata": {},
   "outputs": [],
   "source": []
  }
 ],
 "metadata": {
  "kernelspec": {
   "display_name": "sso-rag-pipeline",
   "language": "python",
   "name": "python3"
  },
  "language_info": {
   "codemirror_mode": {
    "name": "ipython",
    "version": 3
   },
   "file_extension": ".py",
   "mimetype": "text/x-python",
   "name": "python",
   "nbconvert_exporter": "python",
   "pygments_lexer": "ipython3",
   "version": "3.12.4"
  }
 },
 "nbformat": 4,
 "nbformat_minor": 2
}
